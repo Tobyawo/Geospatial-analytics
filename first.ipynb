{
 "cells": [
  {
   "cell_type": "markdown",
   "metadata": {},
   "source": [
    "# Retrieve your Suburb, State, Province, Country"
   ]
  },
  {
   "cell_type": "markdown",
   "metadata": {},
   "source": [
    "Language:    Python\n",
    "Platform:    Jupyter Notebook (IPython)\n",
    "Creator:     Dr Sulaimon A. Afolabi, PhD\n",
    "Affiliation: Africa4AI\n",
    "Website:    www, Africa4AI.com"
   ]
  },
  {
   "cell_type": "markdown",
   "metadata": {},
   "source": [
    "## Step 1 - Load Python Modules"
   ]
  },
  {
   "cell_type": "markdown",
   "metadata": {},
   "source": [
    "### Load the Necessary Modules"
   ]
  },
  {
   "cell_type": "code",
   "execution_count": 1,
   "metadata": {},
   "outputs": [],
   "source": [
    "import pandas as pd    # For data loading & management\n",
    "import os              # For operating system related activities\n",
    "from tqdm import tqdm  # For monitroing the progress\n",
    "tqdm.pandas()"
   ]
  },
  {
   "cell_type": "code",
   "execution_count": 2,
   "metadata": {},
   "outputs": [],
   "source": [
    "#pip install tqdm"
   ]
  },
  {
   "cell_type": "markdown",
   "metadata": {},
   "source": [
    "### Checking the current directory"
   ]
  },
  {
   "cell_type": "code",
   "execution_count": 3,
   "metadata": {},
   "outputs": [
    {
     "name": "stdout",
     "output_type": "stream",
     "text": [
      "C:\\Users\\TOBI\\Desktop\\datascience\\Africa4Al geospatial analysis data\n"
     ]
    }
   ],
   "source": [
    "cwd = os.getcwd()\n",
    "print(cwd)"
   ]
  },
  {
   "cell_type": "markdown",
   "metadata": {},
   "source": [
    "### Load the Modules for your Location Detais"
   ]
  },
  {
   "cell_type": "code",
   "execution_count": 4,
   "metadata": {},
   "outputs": [],
   "source": [
    "from geopy.geocoders import Nominatim\n",
    "geolocator = Nominatim(user_agent='my_app',timeout=None)\n",
    "from geopy.extra.rate_limiter import RateLimiter"
   ]
  },
  {
   "cell_type": "code",
   "execution_count": 5,
   "metadata": {},
   "outputs": [],
   "source": [
    "#pip install geopy"
   ]
  },
  {
   "cell_type": "code",
   "execution_count": null,
   "metadata": {},
   "outputs": [],
   "source": []
  },
  {
   "cell_type": "markdown",
   "metadata": {},
   "source": [
    "## Step 2 - Extract the Details for a single location"
   ]
  },
  {
   "cell_type": "markdown",
   "metadata": {},
   "source": [
    "### Enter your geo-coordinates - A location\n",
    "Note: You need internet connection to run the code below"
   ]
  },
  {
   "cell_type": "code",
   "execution_count": 6,
   "metadata": {},
   "outputs": [],
   "source": [
    "location = geolocator.reverse(\"9.017195, 7.574180\")"
   ]
  },
  {
   "cell_type": "markdown",
   "metadata": {},
   "source": [
    "### View all the Results"
   ]
  },
  {
   "cell_type": "code",
   "execution_count": 7,
   "metadata": {},
   "outputs": [
    {
     "data": {
      "text/plain": [
       "{'place_id': 127045666,\n",
       " 'licence': 'Data © OpenStreetMap contributors, ODbL 1.0. https://osm.org/copyright',\n",
       " 'osm_type': 'way',\n",
       " 'osm_id': 172459717,\n",
       " 'lat': '9.017461822154779',\n",
       " 'lon': '7.5741609704275845',\n",
       " 'display_name': 'Nyanya, Municipal Area Council, Federal Capital Territory, Nigeria',\n",
       " 'address': {'village': 'Nyanya',\n",
       "  'county': 'Municipal Area Council',\n",
       "  'state': 'Federal Capital Territory',\n",
       "  'country': 'Nigeria',\n",
       "  'country_code': 'ng'},\n",
       " 'boundingbox': ['9.0174357', '9.0181233', '7.5737947', '7.5760249']}"
      ]
     },
     "execution_count": 7,
     "metadata": {},
     "output_type": "execute_result"
    }
   ],
   "source": [
    "location.raw"
   ]
  },
  {
   "cell_type": "code",
   "execution_count": null,
   "metadata": {},
   "outputs": [],
   "source": []
  },
  {
   "cell_type": "code",
   "execution_count": 8,
   "metadata": {},
   "outputs": [
    {
     "data": {
      "text/plain": [
       "{'village': 'Nyanya',\n",
       " 'county': 'Municipal Area Council',\n",
       " 'state': 'Federal Capital Territory',\n",
       " 'country': 'Nigeria',\n",
       " 'country_code': 'ng'}"
      ]
     },
     "execution_count": 8,
     "metadata": {},
     "output_type": "execute_result"
    }
   ],
   "source": [
    "location.raw['address']"
   ]
  },
  {
   "cell_type": "code",
   "execution_count": null,
   "metadata": {},
   "outputs": [],
   "source": []
  },
  {
   "cell_type": "markdown",
   "metadata": {},
   "source": [
    "## Step 3a - Extract the Details for Multiple Locations - Data Prepation"
   ]
  },
  {
   "cell_type": "markdown",
   "metadata": {},
   "source": [
    "### Load the data"
   ]
  },
  {
   "cell_type": "code",
   "execution_count": 9,
   "metadata": {},
   "outputs": [],
   "source": [
    "Geo_Data = pd.read_csv(r'C:\\Users\\TOBI\\Desktop\\datascience\\Africa4Al geospatial analysis data\\accident_train.csv')"
   ]
  },
  {
   "cell_type": "markdown",
   "metadata": {},
   "source": [
    "### Viewing the Top 5 Records"
   ]
  },
  {
   "cell_type": "code",
   "execution_count": 10,
   "metadata": {},
   "outputs": [
    {
     "data": {
      "text/html": [
       "<div>\n",
       "<style scoped>\n",
       "    .dataframe tbody tr th:only-of-type {\n",
       "        vertical-align: middle;\n",
       "    }\n",
       "\n",
       "    .dataframe tbody tr th {\n",
       "        vertical-align: top;\n",
       "    }\n",
       "\n",
       "    .dataframe thead th {\n",
       "        text-align: right;\n",
       "    }\n",
       "</style>\n",
       "<table border=\"1\" class=\"dataframe\">\n",
       "  <thead>\n",
       "    <tr style=\"text-align: right;\">\n",
       "      <th></th>\n",
       "      <th>EventId</th>\n",
       "      <th>Occurrence Local Date Time</th>\n",
       "      <th>Reporting Agency</th>\n",
       "      <th>Cause</th>\n",
       "      <th>Subcause</th>\n",
       "      <th>Status</th>\n",
       "      <th>longitude</th>\n",
       "      <th>latitude</th>\n",
       "      <th>road_segment_id</th>\n",
       "    </tr>\n",
       "  </thead>\n",
       "  <tbody>\n",
       "    <tr>\n",
       "      <th>0</th>\n",
       "      <td>60558</td>\n",
       "      <td>01/01/16 00:53</td>\n",
       "      <td>Cam</td>\n",
       "      <td>Stationary Vehicle</td>\n",
       "      <td>Vehicle On Shoulder</td>\n",
       "      <td>Closed</td>\n",
       "      <td>18.5408955032</td>\n",
       "      <td>-33.888275</td>\n",
       "      <td>S0B3CGQ</td>\n",
       "    </tr>\n",
       "    <tr>\n",
       "      <th>1</th>\n",
       "      <td>60559</td>\n",
       "      <td>01/01/16 00:54</td>\n",
       "      <td>CAMERA</td>\n",
       "      <td>Accident</td>\n",
       "      <td>With A Fixed Object</td>\n",
       "      <td>Closed</td>\n",
       "      <td>18.9307563219</td>\n",
       "      <td>-34.140857</td>\n",
       "      <td>RYJYAPI</td>\n",
       "    </tr>\n",
       "    <tr>\n",
       "      <th>2</th>\n",
       "      <td>60560</td>\n",
       "      <td>01/01/16 02:26</td>\n",
       "      <td>Law Enforcement</td>\n",
       "      <td>Accident</td>\n",
       "      <td>Multi Vehicle</td>\n",
       "      <td>Closed</td>\n",
       "      <td>18.5533575029</td>\n",
       "      <td>-33.959154</td>\n",
       "      <td>U3KP57C</td>\n",
       "    </tr>\n",
       "    <tr>\n",
       "      <th>3</th>\n",
       "      <td>60561</td>\n",
       "      <td>01/01/16 02:56</td>\n",
       "      <td>CAMERA</td>\n",
       "      <td>Stationary Vehicle</td>\n",
       "      <td>Vehicle On Shoulder</td>\n",
       "      <td>Closed</td>\n",
       "      <td>18.6775561589</td>\n",
       "      <td>-33.895258</td>\n",
       "      <td>RY0TRQ8</td>\n",
       "    </tr>\n",
       "    <tr>\n",
       "      <th>4</th>\n",
       "      <td>60562</td>\n",
       "      <td>01/01/16 03:40</td>\n",
       "      <td>CAMERA</td>\n",
       "      <td>Accident</td>\n",
       "      <td>Multi Vehicle</td>\n",
       "      <td>Closed</td>\n",
       "      <td>18.8371319682</td>\n",
       "      <td>-34.087051</td>\n",
       "      <td>8LOVJZ3</td>\n",
       "    </tr>\n",
       "  </tbody>\n",
       "</table>\n",
       "</div>"
      ],
      "text/plain": [
       "   EventId Occurrence Local Date Time Reporting Agency               Cause  \\\n",
       "0    60558             01/01/16 00:53              Cam  Stationary Vehicle   \n",
       "1    60559             01/01/16 00:54           CAMERA            Accident   \n",
       "2    60560             01/01/16 02:26  Law Enforcement            Accident   \n",
       "3    60561             01/01/16 02:56           CAMERA  Stationary Vehicle   \n",
       "4    60562             01/01/16 03:40           CAMERA            Accident   \n",
       "\n",
       "              Subcause  Status      longitude   latitude road_segment_id  \n",
       "0  Vehicle On Shoulder  Closed  18.5408955032 -33.888275         S0B3CGQ  \n",
       "1  With A Fixed Object  Closed  18.9307563219 -34.140857         RYJYAPI  \n",
       "2        Multi Vehicle  Closed  18.5533575029 -33.959154         U3KP57C  \n",
       "3  Vehicle On Shoulder  Closed  18.6775561589 -33.895258         RY0TRQ8  \n",
       "4        Multi Vehicle  Closed  18.8371319682 -34.087051         8LOVJZ3  "
      ]
     },
     "execution_count": 10,
     "metadata": {},
     "output_type": "execute_result"
    }
   ],
   "source": [
    "Geo_Data.head()"
   ]
  },
  {
   "cell_type": "code",
   "execution_count": null,
   "metadata": {},
   "outputs": [],
   "source": []
  },
  {
   "cell_type": "markdown",
   "metadata": {},
   "source": [
    "### Viewing the Nmber of Records"
   ]
  },
  {
   "cell_type": "code",
   "execution_count": 11,
   "metadata": {},
   "outputs": [
    {
     "name": "stdout",
     "output_type": "stream",
     "text": [
      "Number of records =  53845\n"
     ]
    }
   ],
   "source": [
    "print('Number of records = ', len(Geo_Data))"
   ]
  },
  {
   "cell_type": "markdown",
   "metadata": {},
   "source": [
    "### Reducing  the Number of Records\n",
    "#Note: The codes try to access the informatio  one by one on the OSM server and their a is a limit to what you can download from the server. That is why we are trying to reduce the number of Records"
   ]
  },
  {
   "cell_type": "code",
   "execution_count": 12,
   "metadata": {},
   "outputs": [],
   "source": [
    "Geo_Data_Reduced = Geo_Data[['EventId','Cause','latitude','longitude']].head(10)"
   ]
  },
  {
   "cell_type": "code",
   "execution_count": 13,
   "metadata": {},
   "outputs": [
    {
     "name": "stdout",
     "output_type": "stream",
     "text": [
      "Number of records =  10\n"
     ]
    }
   ],
   "source": [
    "# checking the number of records again\n",
    "print('Number of records = ', len(Geo_Data_Reduced))"
   ]
  },
  {
   "cell_type": "code",
   "execution_count": 14,
   "metadata": {},
   "outputs": [
    {
     "data": {
      "text/html": [
       "<div>\n",
       "<style scoped>\n",
       "    .dataframe tbody tr th:only-of-type {\n",
       "        vertical-align: middle;\n",
       "    }\n",
       "\n",
       "    .dataframe tbody tr th {\n",
       "        vertical-align: top;\n",
       "    }\n",
       "\n",
       "    .dataframe thead th {\n",
       "        text-align: right;\n",
       "    }\n",
       "</style>\n",
       "<table border=\"1\" class=\"dataframe\">\n",
       "  <thead>\n",
       "    <tr style=\"text-align: right;\">\n",
       "      <th></th>\n",
       "      <th>EventId</th>\n",
       "      <th>Cause</th>\n",
       "      <th>latitude</th>\n",
       "      <th>longitude</th>\n",
       "    </tr>\n",
       "  </thead>\n",
       "  <tbody>\n",
       "    <tr>\n",
       "      <th>0</th>\n",
       "      <td>60558</td>\n",
       "      <td>Stationary Vehicle</td>\n",
       "      <td>-33.888275</td>\n",
       "      <td>18.5408955032</td>\n",
       "    </tr>\n",
       "    <tr>\n",
       "      <th>1</th>\n",
       "      <td>60559</td>\n",
       "      <td>Accident</td>\n",
       "      <td>-34.140857</td>\n",
       "      <td>18.9307563219</td>\n",
       "    </tr>\n",
       "    <tr>\n",
       "      <th>2</th>\n",
       "      <td>60560</td>\n",
       "      <td>Accident</td>\n",
       "      <td>-33.959154</td>\n",
       "      <td>18.5533575029</td>\n",
       "    </tr>\n",
       "    <tr>\n",
       "      <th>3</th>\n",
       "      <td>60561</td>\n",
       "      <td>Stationary Vehicle</td>\n",
       "      <td>-33.895258</td>\n",
       "      <td>18.6775561589</td>\n",
       "    </tr>\n",
       "    <tr>\n",
       "      <th>4</th>\n",
       "      <td>60562</td>\n",
       "      <td>Accident</td>\n",
       "      <td>-34.087051</td>\n",
       "      <td>18.8371319682</td>\n",
       "    </tr>\n",
       "    <tr>\n",
       "      <th>5</th>\n",
       "      <td>60564</td>\n",
       "      <td>Stationary Vehicle</td>\n",
       "      <td>-33.885498</td>\n",
       "      <td>18.6384711081</td>\n",
       "    </tr>\n",
       "    <tr>\n",
       "      <th>6</th>\n",
       "      <td>60565</td>\n",
       "      <td>Accident</td>\n",
       "      <td>-33.943158</td>\n",
       "      <td>18.4637854567</td>\n",
       "    </tr>\n",
       "    <tr>\n",
       "      <th>7</th>\n",
       "      <td>60567</td>\n",
       "      <td>Police and Military</td>\n",
       "      <td>-34.002366</td>\n",
       "      <td>18.6359671258</td>\n",
       "    </tr>\n",
       "    <tr>\n",
       "      <th>8</th>\n",
       "      <td>60568</td>\n",
       "      <td>Stationary Vehicle</td>\n",
       "      <td>-34.002237</td>\n",
       "      <td>18.6350138684</td>\n",
       "    </tr>\n",
       "    <tr>\n",
       "      <th>9</th>\n",
       "      <td>60569</td>\n",
       "      <td>Accident</td>\n",
       "      <td>-33.949284</td>\n",
       "      <td>18.4906240725</td>\n",
       "    </tr>\n",
       "  </tbody>\n",
       "</table>\n",
       "</div>"
      ],
      "text/plain": [
       "   EventId                Cause   latitude      longitude\n",
       "0    60558   Stationary Vehicle -33.888275  18.5408955032\n",
       "1    60559             Accident -34.140857  18.9307563219\n",
       "2    60560             Accident -33.959154  18.5533575029\n",
       "3    60561   Stationary Vehicle -33.895258  18.6775561589\n",
       "4    60562             Accident -34.087051  18.8371319682\n",
       "5    60564   Stationary Vehicle -33.885498  18.6384711081\n",
       "6    60565             Accident -33.943158  18.4637854567\n",
       "7    60567  Police and Military -34.002366  18.6359671258\n",
       "8    60568   Stationary Vehicle -34.002237  18.6350138684\n",
       "9    60569             Accident -33.949284  18.4906240725"
      ]
     },
     "execution_count": 14,
     "metadata": {},
     "output_type": "execute_result"
    }
   ],
   "source": [
    "#Viewing the Reduced Data (all)\n",
    "Geo_Data_Reduced"
   ]
  },
  {
   "cell_type": "markdown",
   "metadata": {},
   "source": [
    "## Step 3b - Extract the Details for Multiple Locations - Data Extraction"
   ]
  },
  {
   "cell_type": "markdown",
   "metadata": {},
   "source": [
    "Creating a Function"
   ]
  },
  {
   "cell_type": "code",
   "execution_count": 15,
   "metadata": {},
   "outputs": [],
   "source": [
    "def get_suburb(row):\n",
    "    pos = str(row['latitude']) + ', ' + str(row['longitude'])\n",
    "    location = geolocator.reverse(pos)\n",
    "    return location.raw['address']"
   ]
  },
  {
   "cell_type": "markdown",
   "metadata": {},
   "source": [
    "### Retrieving the information"
   ]
  },
  {
   "cell_type": "code",
   "execution_count": 16,
   "metadata": {},
   "outputs": [
    {
     "name": "stderr",
     "output_type": "stream",
     "text": [
      "100%|██████████████████████████████████████████| 10/10 [00:12<00:00,  1.21s/it]\n"
     ]
    }
   ],
   "source": [
    "Geo_Data_Reduced['address'] = Geo_Data_Reduced[['latitude','longitude']].progress_apply(get_suburb,axis=1)"
   ]
  },
  {
   "cell_type": "markdown",
   "metadata": {},
   "source": [
    "### Viewing the results"
   ]
  },
  {
   "cell_type": "code",
   "execution_count": 17,
   "metadata": {},
   "outputs": [
    {
     "data": {
      "text/html": [
       "<div>\n",
       "<style scoped>\n",
       "    .dataframe tbody tr th:only-of-type {\n",
       "        vertical-align: middle;\n",
       "    }\n",
       "\n",
       "    .dataframe tbody tr th {\n",
       "        vertical-align: top;\n",
       "    }\n",
       "\n",
       "    .dataframe thead th {\n",
       "        text-align: right;\n",
       "    }\n",
       "</style>\n",
       "<table border=\"1\" class=\"dataframe\">\n",
       "  <thead>\n",
       "    <tr style=\"text-align: right;\">\n",
       "      <th></th>\n",
       "      <th>EventId</th>\n",
       "      <th>Cause</th>\n",
       "      <th>latitude</th>\n",
       "      <th>longitude</th>\n",
       "      <th>address</th>\n",
       "    </tr>\n",
       "  </thead>\n",
       "  <tbody>\n",
       "    <tr>\n",
       "      <th>0</th>\n",
       "      <td>60558</td>\n",
       "      <td>Stationary Vehicle</td>\n",
       "      <td>-33.888275</td>\n",
       "      <td>18.5408955032</td>\n",
       "      <td>{'road': 'N1', 'suburb': 'Montague', 'city': '...</td>\n",
       "    </tr>\n",
       "    <tr>\n",
       "      <th>1</th>\n",
       "      <td>60559</td>\n",
       "      <td>Accident</td>\n",
       "      <td>-34.140857</td>\n",
       "      <td>18.9307563219</td>\n",
       "      <td>{'road': 'N2', 'suburb': 'Cape Town Ward 84', ...</td>\n",
       "    </tr>\n",
       "    <tr>\n",
       "      <th>2</th>\n",
       "      <td>60560</td>\n",
       "      <td>Accident</td>\n",
       "      <td>-33.959154</td>\n",
       "      <td>18.5533575029</td>\n",
       "      <td>{'road': 'Settlers Way', 'suburb': 'Welcome', ...</td>\n",
       "    </tr>\n",
       "    <tr>\n",
       "      <th>3</th>\n",
       "      <td>60561</td>\n",
       "      <td>Stationary Vehicle</td>\n",
       "      <td>-33.895258</td>\n",
       "      <td>18.6775561589</td>\n",
       "      <td>{'road': 'Kuils River Freeway', 'suburb': 'Cap...</td>\n",
       "    </tr>\n",
       "    <tr>\n",
       "      <th>4</th>\n",
       "      <td>60562</td>\n",
       "      <td>Accident</td>\n",
       "      <td>-34.087051</td>\n",
       "      <td>18.8371319682</td>\n",
       "      <td>{'road': 'N2', 'suburb': 'Cape Town Ward 15', ...</td>\n",
       "    </tr>\n",
       "    <tr>\n",
       "      <th>5</th>\n",
       "      <td>60564</td>\n",
       "      <td>Stationary Vehicle</td>\n",
       "      <td>-33.885498</td>\n",
       "      <td>18.6384711081</td>\n",
       "      <td>{'road': 'N1', 'suburb': 'Tyger Valley', 'town...</td>\n",
       "    </tr>\n",
       "    <tr>\n",
       "      <th>6</th>\n",
       "      <td>60565</td>\n",
       "      <td>Accident</td>\n",
       "      <td>-33.943158</td>\n",
       "      <td>18.4637854567</td>\n",
       "      <td>{'road': 'Hospital Bend', 'suburb': 'Cape Town...</td>\n",
       "    </tr>\n",
       "    <tr>\n",
       "      <th>7</th>\n",
       "      <td>60567</td>\n",
       "      <td>Police and Military</td>\n",
       "      <td>-34.002366</td>\n",
       "      <td>18.6359671258</td>\n",
       "      <td>{'road': 'N2', 'suburb': 'Cape Town Ward 18', ...</td>\n",
       "    </tr>\n",
       "    <tr>\n",
       "      <th>8</th>\n",
       "      <td>60568</td>\n",
       "      <td>Stationary Vehicle</td>\n",
       "      <td>-34.002237</td>\n",
       "      <td>18.6350138684</td>\n",
       "      <td>{'road': 'N2', 'suburb': 'Cape Town Ward 18', ...</td>\n",
       "    </tr>\n",
       "    <tr>\n",
       "      <th>9</th>\n",
       "      <td>60569</td>\n",
       "      <td>Accident</td>\n",
       "      <td>-33.949284</td>\n",
       "      <td>18.4906240725</td>\n",
       "      <td>{'road': 'Settlers Way', 'suburb': 'Mowbray', ...</td>\n",
       "    </tr>\n",
       "  </tbody>\n",
       "</table>\n",
       "</div>"
      ],
      "text/plain": [
       "   EventId                Cause   latitude      longitude  \\\n",
       "0    60558   Stationary Vehicle -33.888275  18.5408955032   \n",
       "1    60559             Accident -34.140857  18.9307563219   \n",
       "2    60560             Accident -33.959154  18.5533575029   \n",
       "3    60561   Stationary Vehicle -33.895258  18.6775561589   \n",
       "4    60562             Accident -34.087051  18.8371319682   \n",
       "5    60564   Stationary Vehicle -33.885498  18.6384711081   \n",
       "6    60565             Accident -33.943158  18.4637854567   \n",
       "7    60567  Police and Military -34.002366  18.6359671258   \n",
       "8    60568   Stationary Vehicle -34.002237  18.6350138684   \n",
       "9    60569             Accident -33.949284  18.4906240725   \n",
       "\n",
       "                                             address  \n",
       "0  {'road': 'N1', 'suburb': 'Montague', 'city': '...  \n",
       "1  {'road': 'N2', 'suburb': 'Cape Town Ward 84', ...  \n",
       "2  {'road': 'Settlers Way', 'suburb': 'Welcome', ...  \n",
       "3  {'road': 'Kuils River Freeway', 'suburb': 'Cap...  \n",
       "4  {'road': 'N2', 'suburb': 'Cape Town Ward 15', ...  \n",
       "5  {'road': 'N1', 'suburb': 'Tyger Valley', 'town...  \n",
       "6  {'road': 'Hospital Bend', 'suburb': 'Cape Town...  \n",
       "7  {'road': 'N2', 'suburb': 'Cape Town Ward 18', ...  \n",
       "8  {'road': 'N2', 'suburb': 'Cape Town Ward 18', ...  \n",
       "9  {'road': 'Settlers Way', 'suburb': 'Mowbray', ...  "
      ]
     },
     "execution_count": 17,
     "metadata": {},
     "output_type": "execute_result"
    }
   ],
   "source": [
    "Geo_Data_Reduced"
   ]
  },
  {
   "cell_type": "code",
   "execution_count": 18,
   "metadata": {},
   "outputs": [
    {
     "data": {
      "text/html": [
       "<div>\n",
       "<style scoped>\n",
       "    .dataframe tbody tr th:only-of-type {\n",
       "        vertical-align: middle;\n",
       "    }\n",
       "\n",
       "    .dataframe tbody tr th {\n",
       "        vertical-align: top;\n",
       "    }\n",
       "\n",
       "    .dataframe thead th {\n",
       "        text-align: right;\n",
       "    }\n",
       "</style>\n",
       "<table border=\"1\" class=\"dataframe\">\n",
       "  <thead>\n",
       "    <tr style=\"text-align: right;\">\n",
       "      <th></th>\n",
       "      <th>address</th>\n",
       "    </tr>\n",
       "  </thead>\n",
       "  <tbody>\n",
       "    <tr>\n",
       "      <th>0</th>\n",
       "      <td>{'road': 'N1', 'suburb': 'Montague', 'city': '...</td>\n",
       "    </tr>\n",
       "    <tr>\n",
       "      <th>1</th>\n",
       "      <td>{'road': 'N2', 'suburb': 'Cape Town Ward 84', ...</td>\n",
       "    </tr>\n",
       "    <tr>\n",
       "      <th>2</th>\n",
       "      <td>{'road': 'Settlers Way', 'suburb': 'Welcome', ...</td>\n",
       "    </tr>\n",
       "    <tr>\n",
       "      <th>3</th>\n",
       "      <td>{'road': 'Kuils River Freeway', 'suburb': 'Cap...</td>\n",
       "    </tr>\n",
       "    <tr>\n",
       "      <th>4</th>\n",
       "      <td>{'road': 'N2', 'suburb': 'Cape Town Ward 15', ...</td>\n",
       "    </tr>\n",
       "    <tr>\n",
       "      <th>5</th>\n",
       "      <td>{'road': 'N1', 'suburb': 'Tyger Valley', 'town...</td>\n",
       "    </tr>\n",
       "    <tr>\n",
       "      <th>6</th>\n",
       "      <td>{'road': 'Hospital Bend', 'suburb': 'Cape Town...</td>\n",
       "    </tr>\n",
       "    <tr>\n",
       "      <th>7</th>\n",
       "      <td>{'road': 'N2', 'suburb': 'Cape Town Ward 18', ...</td>\n",
       "    </tr>\n",
       "    <tr>\n",
       "      <th>8</th>\n",
       "      <td>{'road': 'N2', 'suburb': 'Cape Town Ward 18', ...</td>\n",
       "    </tr>\n",
       "    <tr>\n",
       "      <th>9</th>\n",
       "      <td>{'road': 'Settlers Way', 'suburb': 'Mowbray', ...</td>\n",
       "    </tr>\n",
       "  </tbody>\n",
       "</table>\n",
       "</div>"
      ],
      "text/plain": [
       "                                             address\n",
       "0  {'road': 'N1', 'suburb': 'Montague', 'city': '...\n",
       "1  {'road': 'N2', 'suburb': 'Cape Town Ward 84', ...\n",
       "2  {'road': 'Settlers Way', 'suburb': 'Welcome', ...\n",
       "3  {'road': 'Kuils River Freeway', 'suburb': 'Cap...\n",
       "4  {'road': 'N2', 'suburb': 'Cape Town Ward 15', ...\n",
       "5  {'road': 'N1', 'suburb': 'Tyger Valley', 'town...\n",
       "6  {'road': 'Hospital Bend', 'suburb': 'Cape Town...\n",
       "7  {'road': 'N2', 'suburb': 'Cape Town Ward 18', ...\n",
       "8  {'road': 'N2', 'suburb': 'Cape Town Ward 18', ...\n",
       "9  {'road': 'Settlers Way', 'suburb': 'Mowbray', ..."
      ]
     },
     "execution_count": 18,
     "metadata": {},
     "output_type": "execute_result"
    }
   ],
   "source": [
    "Geo_Data_Reduced[['address']]"
   ]
  },
  {
   "cell_type": "code",
   "execution_count": 19,
   "metadata": {},
   "outputs": [
    {
     "name": "stderr",
     "output_type": "stream",
     "text": [
      "C:\\Users\\TOBI\\Anaconda3\\envs\\tensorflow_env\\lib\\site-packages\\ipykernel_launcher.py:1: FutureWarning: Passing a negative integer is deprecated in version 1.0 and will not be supported in future version. Instead, use None to not limit the column width.\n",
      "  \"\"\"Entry point for launching an IPython kernel.\n"
     ]
    }
   ],
   "source": [
    "pd.set_option('display.max_colwidth', -1)"
   ]
  },
  {
   "cell_type": "code",
   "execution_count": 20,
   "metadata": {},
   "outputs": [
    {
     "data": {
      "text/html": [
       "<div>\n",
       "<style scoped>\n",
       "    .dataframe tbody tr th:only-of-type {\n",
       "        vertical-align: middle;\n",
       "    }\n",
       "\n",
       "    .dataframe tbody tr th {\n",
       "        vertical-align: top;\n",
       "    }\n",
       "\n",
       "    .dataframe thead th {\n",
       "        text-align: right;\n",
       "    }\n",
       "</style>\n",
       "<table border=\"1\" class=\"dataframe\">\n",
       "  <thead>\n",
       "    <tr style=\"text-align: right;\">\n",
       "      <th></th>\n",
       "      <th>address</th>\n",
       "    </tr>\n",
       "  </thead>\n",
       "  <tbody>\n",
       "    <tr>\n",
       "      <th>0</th>\n",
       "      <td>{'road': 'N1', 'suburb': 'Montague', 'city': 'Cape Town', 'county': 'City of Cape Town', 'state': 'Western Cape', 'postcode': '7460', 'country': 'South Africa', 'country_code': 'za'}</td>\n",
       "    </tr>\n",
       "    <tr>\n",
       "      <th>1</th>\n",
       "      <td>{'road': 'N2', 'suburb': 'Cape Town Ward 84', 'village': 'Sir Lowry's Pass', 'county': 'City of Cape Town', 'state': 'Western Cape', 'country': 'South Africa', 'country_code': 'za'}</td>\n",
       "    </tr>\n",
       "    <tr>\n",
       "      <th>2</th>\n",
       "      <td>{'road': 'Settlers Way', 'suburb': 'Welcome', 'city': 'Cape Town', 'county': 'City of Cape Town', 'state': 'Western Cape', 'postcode': '7535', 'country': 'South Africa', 'country_code': 'za'}</td>\n",
       "    </tr>\n",
       "    <tr>\n",
       "      <th>3</th>\n",
       "      <td>{'road': 'Kuils River Freeway', 'suburb': 'Cape Town Ward 8', 'town': 'Bellville', 'county': 'City of Cape Town', 'state': 'Western Cape', 'postcode': '7580', 'country': 'South Africa', 'country_code': 'za'}</td>\n",
       "    </tr>\n",
       "    <tr>\n",
       "      <th>4</th>\n",
       "      <td>{'road': 'N2', 'suburb': 'Cape Town Ward 15', 'town': 'Somerset West', 'county': 'City of Cape Town', 'state': 'Western Cape', 'postcode': '7130', 'country': 'South Africa', 'country_code': 'za'}</td>\n",
       "    </tr>\n",
       "    <tr>\n",
       "      <th>5</th>\n",
       "      <td>{'road': 'N1', 'suburb': 'Tyger Valley', 'town': 'Bellville', 'county': 'City of Cape Town', 'state': 'Western Cape', 'postcode': '7530', 'country': 'South Africa', 'country_code': 'za'}</td>\n",
       "    </tr>\n",
       "    <tr>\n",
       "      <th>6</th>\n",
       "      <td>{'road': 'Hospital Bend', 'suburb': 'Cape Town Ward 57', 'city': 'Cape Town', 'county': 'City of Cape Town', 'state': 'Western Cape', 'postcode': '7925', 'country': 'South Africa', 'country_code': 'za'}</td>\n",
       "    </tr>\n",
       "    <tr>\n",
       "      <th>7</th>\n",
       "      <td>{'road': 'N2', 'suburb': 'Cape Town Ward 18', 'town': 'Khayelitsha', 'county': 'City of Cape Town', 'state': 'Western Cape', 'postcode': '7100', 'country': 'South Africa', 'country_code': 'za'}</td>\n",
       "    </tr>\n",
       "    <tr>\n",
       "      <th>8</th>\n",
       "      <td>{'road': 'N2', 'suburb': 'Cape Town Ward 18', 'city': 'Cape Town', 'county': 'City of Cape Town', 'state': 'Western Cape', 'postcode': '7100', 'country': 'South Africa', 'country_code': 'za'}</td>\n",
       "    </tr>\n",
       "    <tr>\n",
       "      <th>9</th>\n",
       "      <td>{'road': 'Settlers Way', 'suburb': 'Mowbray', 'city': 'Cape Town', 'county': 'City of Cape Town', 'state': 'Western Cape', 'postcode': '7450', 'country': 'South Africa', 'country_code': 'za'}</td>\n",
       "    </tr>\n",
       "  </tbody>\n",
       "</table>\n",
       "</div>"
      ],
      "text/plain": [
       "                                                                                                                                                                                                           address\n",
       "0  {'road': 'N1', 'suburb': 'Montague', 'city': 'Cape Town', 'county': 'City of Cape Town', 'state': 'Western Cape', 'postcode': '7460', 'country': 'South Africa', 'country_code': 'za'}                         \n",
       "1  {'road': 'N2', 'suburb': 'Cape Town Ward 84', 'village': 'Sir Lowry's Pass', 'county': 'City of Cape Town', 'state': 'Western Cape', 'country': 'South Africa', 'country_code': 'za'}                          \n",
       "2  {'road': 'Settlers Way', 'suburb': 'Welcome', 'city': 'Cape Town', 'county': 'City of Cape Town', 'state': 'Western Cape', 'postcode': '7535', 'country': 'South Africa', 'country_code': 'za'}                \n",
       "3  {'road': 'Kuils River Freeway', 'suburb': 'Cape Town Ward 8', 'town': 'Bellville', 'county': 'City of Cape Town', 'state': 'Western Cape', 'postcode': '7580', 'country': 'South Africa', 'country_code': 'za'}\n",
       "4  {'road': 'N2', 'suburb': 'Cape Town Ward 15', 'town': 'Somerset West', 'county': 'City of Cape Town', 'state': 'Western Cape', 'postcode': '7130', 'country': 'South Africa', 'country_code': 'za'}            \n",
       "5  {'road': 'N1', 'suburb': 'Tyger Valley', 'town': 'Bellville', 'county': 'City of Cape Town', 'state': 'Western Cape', 'postcode': '7530', 'country': 'South Africa', 'country_code': 'za'}                     \n",
       "6  {'road': 'Hospital Bend', 'suburb': 'Cape Town Ward 57', 'city': 'Cape Town', 'county': 'City of Cape Town', 'state': 'Western Cape', 'postcode': '7925', 'country': 'South Africa', 'country_code': 'za'}     \n",
       "7  {'road': 'N2', 'suburb': 'Cape Town Ward 18', 'town': 'Khayelitsha', 'county': 'City of Cape Town', 'state': 'Western Cape', 'postcode': '7100', 'country': 'South Africa', 'country_code': 'za'}              \n",
       "8  {'road': 'N2', 'suburb': 'Cape Town Ward 18', 'city': 'Cape Town', 'county': 'City of Cape Town', 'state': 'Western Cape', 'postcode': '7100', 'country': 'South Africa', 'country_code': 'za'}                \n",
       "9  {'road': 'Settlers Way', 'suburb': 'Mowbray', 'city': 'Cape Town', 'county': 'City of Cape Town', 'state': 'Western Cape', 'postcode': '7450', 'country': 'South Africa', 'country_code': 'za'}                "
      ]
     },
     "execution_count": 20,
     "metadata": {},
     "output_type": "execute_result"
    }
   ],
   "source": [
    "Geo_Data_Reduced[['address']]"
   ]
  },
  {
   "cell_type": "code",
   "execution_count": 21,
   "metadata": {},
   "outputs": [
    {
     "data": {
      "text/plain": [
       "{'road': 'N1',\n",
       " 'suburb': 'Montague',\n",
       " 'city': 'Cape Town',\n",
       " 'county': 'City of Cape Town',\n",
       " 'state': 'Western Cape',\n",
       " 'postcode': '7460',\n",
       " 'country': 'South Africa',\n",
       " 'country_code': 'za'}"
      ]
     },
     "execution_count": 21,
     "metadata": {},
     "output_type": "execute_result"
    }
   ],
   "source": [
    "Geo_Data_Reduced['address'][0]"
   ]
  },
  {
   "cell_type": "markdown",
   "metadata": {},
   "source": [
    "### Checking the python data type"
   ]
  },
  {
   "cell_type": "code",
   "execution_count": 22,
   "metadata": {},
   "outputs": [
    {
     "data": {
      "text/plain": [
       "dict"
      ]
     },
     "execution_count": 22,
     "metadata": {},
     "output_type": "execute_result"
    }
   ],
   "source": [
    "type({'road': 'N1',\n",
    " 'suburb': 'Montague',\n",
    " 'city': 'Cape Town',\n",
    " 'county': 'City of Cape Town',\n",
    " 'state': 'Western Cape',\n",
    " 'postcode': '7460',\n",
    " 'country': 'South Africa',\n",
    " 'country_code': 'za'})"
   ]
  },
  {
   "cell_type": "markdown",
   "metadata": {},
   "source": [
    "dict = dictionary"
   ]
  },
  {
   "cell_type": "code",
   "execution_count": 23,
   "metadata": {},
   "outputs": [],
   "source": [
    "Geo_Data_Address=Geo_Data_Reduced['address'].apply(pd.Series)"
   ]
  },
  {
   "cell_type": "code",
   "execution_count": 24,
   "metadata": {},
   "outputs": [
    {
     "data": {
      "text/html": [
       "<div>\n",
       "<style scoped>\n",
       "    .dataframe tbody tr th:only-of-type {\n",
       "        vertical-align: middle;\n",
       "    }\n",
       "\n",
       "    .dataframe tbody tr th {\n",
       "        vertical-align: top;\n",
       "    }\n",
       "\n",
       "    .dataframe thead th {\n",
       "        text-align: right;\n",
       "    }\n",
       "</style>\n",
       "<table border=\"1\" class=\"dataframe\">\n",
       "  <thead>\n",
       "    <tr style=\"text-align: right;\">\n",
       "      <th></th>\n",
       "      <th>road</th>\n",
       "      <th>suburb</th>\n",
       "      <th>city</th>\n",
       "      <th>county</th>\n",
       "      <th>state</th>\n",
       "      <th>postcode</th>\n",
       "      <th>country</th>\n",
       "      <th>country_code</th>\n",
       "      <th>village</th>\n",
       "      <th>town</th>\n",
       "    </tr>\n",
       "  </thead>\n",
       "  <tbody>\n",
       "    <tr>\n",
       "      <th>0</th>\n",
       "      <td>N1</td>\n",
       "      <td>Montague</td>\n",
       "      <td>Cape Town</td>\n",
       "      <td>City of Cape Town</td>\n",
       "      <td>Western Cape</td>\n",
       "      <td>7460</td>\n",
       "      <td>South Africa</td>\n",
       "      <td>za</td>\n",
       "      <td>NaN</td>\n",
       "      <td>NaN</td>\n",
       "    </tr>\n",
       "    <tr>\n",
       "      <th>1</th>\n",
       "      <td>N2</td>\n",
       "      <td>Cape Town Ward 84</td>\n",
       "      <td>NaN</td>\n",
       "      <td>City of Cape Town</td>\n",
       "      <td>Western Cape</td>\n",
       "      <td>NaN</td>\n",
       "      <td>South Africa</td>\n",
       "      <td>za</td>\n",
       "      <td>Sir Lowry's Pass</td>\n",
       "      <td>NaN</td>\n",
       "    </tr>\n",
       "    <tr>\n",
       "      <th>2</th>\n",
       "      <td>Settlers Way</td>\n",
       "      <td>Welcome</td>\n",
       "      <td>Cape Town</td>\n",
       "      <td>City of Cape Town</td>\n",
       "      <td>Western Cape</td>\n",
       "      <td>7535</td>\n",
       "      <td>South Africa</td>\n",
       "      <td>za</td>\n",
       "      <td>NaN</td>\n",
       "      <td>NaN</td>\n",
       "    </tr>\n",
       "    <tr>\n",
       "      <th>3</th>\n",
       "      <td>Kuils River Freeway</td>\n",
       "      <td>Cape Town Ward 8</td>\n",
       "      <td>NaN</td>\n",
       "      <td>City of Cape Town</td>\n",
       "      <td>Western Cape</td>\n",
       "      <td>7580</td>\n",
       "      <td>South Africa</td>\n",
       "      <td>za</td>\n",
       "      <td>NaN</td>\n",
       "      <td>Bellville</td>\n",
       "    </tr>\n",
       "    <tr>\n",
       "      <th>4</th>\n",
       "      <td>N2</td>\n",
       "      <td>Cape Town Ward 15</td>\n",
       "      <td>NaN</td>\n",
       "      <td>City of Cape Town</td>\n",
       "      <td>Western Cape</td>\n",
       "      <td>7130</td>\n",
       "      <td>South Africa</td>\n",
       "      <td>za</td>\n",
       "      <td>NaN</td>\n",
       "      <td>Somerset West</td>\n",
       "    </tr>\n",
       "    <tr>\n",
       "      <th>5</th>\n",
       "      <td>N1</td>\n",
       "      <td>Tyger Valley</td>\n",
       "      <td>NaN</td>\n",
       "      <td>City of Cape Town</td>\n",
       "      <td>Western Cape</td>\n",
       "      <td>7530</td>\n",
       "      <td>South Africa</td>\n",
       "      <td>za</td>\n",
       "      <td>NaN</td>\n",
       "      <td>Bellville</td>\n",
       "    </tr>\n",
       "    <tr>\n",
       "      <th>6</th>\n",
       "      <td>Hospital Bend</td>\n",
       "      <td>Cape Town Ward 57</td>\n",
       "      <td>Cape Town</td>\n",
       "      <td>City of Cape Town</td>\n",
       "      <td>Western Cape</td>\n",
       "      <td>7925</td>\n",
       "      <td>South Africa</td>\n",
       "      <td>za</td>\n",
       "      <td>NaN</td>\n",
       "      <td>NaN</td>\n",
       "    </tr>\n",
       "    <tr>\n",
       "      <th>7</th>\n",
       "      <td>N2</td>\n",
       "      <td>Cape Town Ward 18</td>\n",
       "      <td>NaN</td>\n",
       "      <td>City of Cape Town</td>\n",
       "      <td>Western Cape</td>\n",
       "      <td>7100</td>\n",
       "      <td>South Africa</td>\n",
       "      <td>za</td>\n",
       "      <td>NaN</td>\n",
       "      <td>Khayelitsha</td>\n",
       "    </tr>\n",
       "    <tr>\n",
       "      <th>8</th>\n",
       "      <td>N2</td>\n",
       "      <td>Cape Town Ward 18</td>\n",
       "      <td>Cape Town</td>\n",
       "      <td>City of Cape Town</td>\n",
       "      <td>Western Cape</td>\n",
       "      <td>7100</td>\n",
       "      <td>South Africa</td>\n",
       "      <td>za</td>\n",
       "      <td>NaN</td>\n",
       "      <td>NaN</td>\n",
       "    </tr>\n",
       "    <tr>\n",
       "      <th>9</th>\n",
       "      <td>Settlers Way</td>\n",
       "      <td>Mowbray</td>\n",
       "      <td>Cape Town</td>\n",
       "      <td>City of Cape Town</td>\n",
       "      <td>Western Cape</td>\n",
       "      <td>7450</td>\n",
       "      <td>South Africa</td>\n",
       "      <td>za</td>\n",
       "      <td>NaN</td>\n",
       "      <td>NaN</td>\n",
       "    </tr>\n",
       "  </tbody>\n",
       "</table>\n",
       "</div>"
      ],
      "text/plain": [
       "                  road             suburb       city             county  \\\n",
       "0  N1                   Montague           Cape Town  City of Cape Town   \n",
       "1  N2                   Cape Town Ward 84  NaN        City of Cape Town   \n",
       "2  Settlers Way         Welcome            Cape Town  City of Cape Town   \n",
       "3  Kuils River Freeway  Cape Town Ward 8   NaN        City of Cape Town   \n",
       "4  N2                   Cape Town Ward 15  NaN        City of Cape Town   \n",
       "5  N1                   Tyger Valley       NaN        City of Cape Town   \n",
       "6  Hospital Bend        Cape Town Ward 57  Cape Town  City of Cape Town   \n",
       "7  N2                   Cape Town Ward 18  NaN        City of Cape Town   \n",
       "8  N2                   Cape Town Ward 18  Cape Town  City of Cape Town   \n",
       "9  Settlers Way         Mowbray            Cape Town  City of Cape Town   \n",
       "\n",
       "          state postcode       country country_code           village  \\\n",
       "0  Western Cape  7460     South Africa  za           NaN                \n",
       "1  Western Cape  NaN      South Africa  za           Sir Lowry's Pass   \n",
       "2  Western Cape  7535     South Africa  za           NaN                \n",
       "3  Western Cape  7580     South Africa  za           NaN                \n",
       "4  Western Cape  7130     South Africa  za           NaN                \n",
       "5  Western Cape  7530     South Africa  za           NaN                \n",
       "6  Western Cape  7925     South Africa  za           NaN                \n",
       "7  Western Cape  7100     South Africa  za           NaN                \n",
       "8  Western Cape  7100     South Africa  za           NaN                \n",
       "9  Western Cape  7450     South Africa  za           NaN                \n",
       "\n",
       "            town  \n",
       "0  NaN            \n",
       "1  NaN            \n",
       "2  NaN            \n",
       "3  Bellville      \n",
       "4  Somerset West  \n",
       "5  Bellville      \n",
       "6  NaN            \n",
       "7  Khayelitsha    \n",
       "8  NaN            \n",
       "9  NaN            "
      ]
     },
     "execution_count": 24,
     "metadata": {},
     "output_type": "execute_result"
    }
   ],
   "source": [
    "Geo_Data_Address.head(10)"
   ]
  },
  {
   "cell_type": "markdown",
   "metadata": {},
   "source": [
    "### Selecting the columns of interest"
   ]
  },
  {
   "cell_type": "code",
   "execution_count": 25,
   "metadata": {},
   "outputs": [
    {
     "data": {
      "text/html": [
       "<div>\n",
       "<style scoped>\n",
       "    .dataframe tbody tr th:only-of-type {\n",
       "        vertical-align: middle;\n",
       "    }\n",
       "\n",
       "    .dataframe tbody tr th {\n",
       "        vertical-align: top;\n",
       "    }\n",
       "\n",
       "    .dataframe thead th {\n",
       "        text-align: right;\n",
       "    }\n",
       "</style>\n",
       "<table border=\"1\" class=\"dataframe\">\n",
       "  <thead>\n",
       "    <tr style=\"text-align: right;\">\n",
       "      <th></th>\n",
       "      <th>road</th>\n",
       "      <th>suburb</th>\n",
       "      <th>state</th>\n",
       "      <th>country</th>\n",
       "    </tr>\n",
       "  </thead>\n",
       "  <tbody>\n",
       "    <tr>\n",
       "      <th>0</th>\n",
       "      <td>N1</td>\n",
       "      <td>Montague</td>\n",
       "      <td>Western Cape</td>\n",
       "      <td>South Africa</td>\n",
       "    </tr>\n",
       "    <tr>\n",
       "      <th>1</th>\n",
       "      <td>N2</td>\n",
       "      <td>Cape Town Ward 84</td>\n",
       "      <td>Western Cape</td>\n",
       "      <td>South Africa</td>\n",
       "    </tr>\n",
       "    <tr>\n",
       "      <th>2</th>\n",
       "      <td>Settlers Way</td>\n",
       "      <td>Welcome</td>\n",
       "      <td>Western Cape</td>\n",
       "      <td>South Africa</td>\n",
       "    </tr>\n",
       "    <tr>\n",
       "      <th>3</th>\n",
       "      <td>Kuils River Freeway</td>\n",
       "      <td>Cape Town Ward 8</td>\n",
       "      <td>Western Cape</td>\n",
       "      <td>South Africa</td>\n",
       "    </tr>\n",
       "    <tr>\n",
       "      <th>4</th>\n",
       "      <td>N2</td>\n",
       "      <td>Cape Town Ward 15</td>\n",
       "      <td>Western Cape</td>\n",
       "      <td>South Africa</td>\n",
       "    </tr>\n",
       "  </tbody>\n",
       "</table>\n",
       "</div>"
      ],
      "text/plain": [
       "                  road             suburb         state       country\n",
       "0  N1                   Montague           Western Cape  South Africa\n",
       "1  N2                   Cape Town Ward 84  Western Cape  South Africa\n",
       "2  Settlers Way         Welcome            Western Cape  South Africa\n",
       "3  Kuils River Freeway  Cape Town Ward 8   Western Cape  South Africa\n",
       "4  N2                   Cape Town Ward 15  Western Cape  South Africa"
      ]
     },
     "execution_count": 25,
     "metadata": {},
     "output_type": "execute_result"
    }
   ],
   "source": [
    "Geo_Data_Addressx = Geo_Data_Address[['road','suburb','state','country']]\n",
    "Geo_Data_Addressx.head(5)"
   ]
  },
  {
   "cell_type": "markdown",
   "metadata": {},
   "source": [
    "### Merging the Geo_Data_Reduced with Geo_Data_Addressx"
   ]
  },
  {
   "cell_type": "code",
   "execution_count": 31,
   "metadata": {},
   "outputs": [
    {
     "data": {
      "text/html": [
       "<div>\n",
       "<style scoped>\n",
       "    .dataframe tbody tr th:only-of-type {\n",
       "        vertical-align: middle;\n",
       "    }\n",
       "\n",
       "    .dataframe tbody tr th {\n",
       "        vertical-align: top;\n",
       "    }\n",
       "\n",
       "    .dataframe thead th {\n",
       "        text-align: right;\n",
       "    }\n",
       "</style>\n",
       "<table border=\"1\" class=\"dataframe\">\n",
       "  <thead>\n",
       "    <tr style=\"text-align: right;\">\n",
       "      <th></th>\n",
       "      <th>EventId</th>\n",
       "      <th>Cause</th>\n",
       "      <th>latitude</th>\n",
       "      <th>longitude</th>\n",
       "      <th>address</th>\n",
       "      <th>road</th>\n",
       "      <th>suburb</th>\n",
       "      <th>state</th>\n",
       "      <th>country</th>\n",
       "    </tr>\n",
       "  </thead>\n",
       "  <tbody>\n",
       "    <tr>\n",
       "      <th>0</th>\n",
       "      <td>60558</td>\n",
       "      <td>Stationary Vehicle</td>\n",
       "      <td>-33.888275</td>\n",
       "      <td>18.5408955032</td>\n",
       "      <td>{'road': 'N1', 'suburb': 'Montague', 'city': 'Cape Town', 'county': 'City of Cape Town', 'state': 'Western Cape', 'postcode': '7460', 'country': 'South Africa', 'country_code': 'za'}</td>\n",
       "      <td>N1</td>\n",
       "      <td>Montague</td>\n",
       "      <td>Western Cape</td>\n",
       "      <td>South Africa</td>\n",
       "    </tr>\n",
       "    <tr>\n",
       "      <th>1</th>\n",
       "      <td>60559</td>\n",
       "      <td>Accident</td>\n",
       "      <td>-34.140857</td>\n",
       "      <td>18.9307563219</td>\n",
       "      <td>{'road': 'N2', 'suburb': 'Cape Town Ward 84', 'village': 'Sir Lowry's Pass', 'county': 'City of Cape Town', 'state': 'Western Cape', 'country': 'South Africa', 'country_code': 'za'}</td>\n",
       "      <td>N2</td>\n",
       "      <td>Cape Town Ward 84</td>\n",
       "      <td>Western Cape</td>\n",
       "      <td>South Africa</td>\n",
       "    </tr>\n",
       "    <tr>\n",
       "      <th>2</th>\n",
       "      <td>60560</td>\n",
       "      <td>Accident</td>\n",
       "      <td>-33.959154</td>\n",
       "      <td>18.5533575029</td>\n",
       "      <td>{'road': 'Settlers Way', 'suburb': 'Welcome', 'city': 'Cape Town', 'county': 'City of Cape Town', 'state': 'Western Cape', 'postcode': '7535', 'country': 'South Africa', 'country_code': 'za'}</td>\n",
       "      <td>Settlers Way</td>\n",
       "      <td>Welcome</td>\n",
       "      <td>Western Cape</td>\n",
       "      <td>South Africa</td>\n",
       "    </tr>\n",
       "    <tr>\n",
       "      <th>3</th>\n",
       "      <td>60561</td>\n",
       "      <td>Stationary Vehicle</td>\n",
       "      <td>-33.895258</td>\n",
       "      <td>18.6775561589</td>\n",
       "      <td>{'road': 'Kuils River Freeway', 'suburb': 'Cape Town Ward 8', 'town': 'Bellville', 'county': 'City of Cape Town', 'state': 'Western Cape', 'postcode': '7580', 'country': 'South Africa', 'country_code': 'za'}</td>\n",
       "      <td>Kuils River Freeway</td>\n",
       "      <td>Cape Town Ward 8</td>\n",
       "      <td>Western Cape</td>\n",
       "      <td>South Africa</td>\n",
       "    </tr>\n",
       "    <tr>\n",
       "      <th>4</th>\n",
       "      <td>60562</td>\n",
       "      <td>Accident</td>\n",
       "      <td>-34.087051</td>\n",
       "      <td>18.8371319682</td>\n",
       "      <td>{'road': 'N2', 'suburb': 'Cape Town Ward 15', 'town': 'Somerset West', 'county': 'City of Cape Town', 'state': 'Western Cape', 'postcode': '7130', 'country': 'South Africa', 'country_code': 'za'}</td>\n",
       "      <td>N2</td>\n",
       "      <td>Cape Town Ward 15</td>\n",
       "      <td>Western Cape</td>\n",
       "      <td>South Africa</td>\n",
       "    </tr>\n",
       "    <tr>\n",
       "      <th>5</th>\n",
       "      <td>60564</td>\n",
       "      <td>Stationary Vehicle</td>\n",
       "      <td>-33.885498</td>\n",
       "      <td>18.6384711081</td>\n",
       "      <td>{'road': 'N1', 'suburb': 'Tyger Valley', 'town': 'Bellville', 'county': 'City of Cape Town', 'state': 'Western Cape', 'postcode': '7530', 'country': 'South Africa', 'country_code': 'za'}</td>\n",
       "      <td>N1</td>\n",
       "      <td>Tyger Valley</td>\n",
       "      <td>Western Cape</td>\n",
       "      <td>South Africa</td>\n",
       "    </tr>\n",
       "    <tr>\n",
       "      <th>6</th>\n",
       "      <td>60565</td>\n",
       "      <td>Accident</td>\n",
       "      <td>-33.943158</td>\n",
       "      <td>18.4637854567</td>\n",
       "      <td>{'road': 'Hospital Bend', 'suburb': 'Cape Town Ward 57', 'city': 'Cape Town', 'county': 'City of Cape Town', 'state': 'Western Cape', 'postcode': '7925', 'country': 'South Africa', 'country_code': 'za'}</td>\n",
       "      <td>Hospital Bend</td>\n",
       "      <td>Cape Town Ward 57</td>\n",
       "      <td>Western Cape</td>\n",
       "      <td>South Africa</td>\n",
       "    </tr>\n",
       "    <tr>\n",
       "      <th>7</th>\n",
       "      <td>60567</td>\n",
       "      <td>Police and Military</td>\n",
       "      <td>-34.002366</td>\n",
       "      <td>18.6359671258</td>\n",
       "      <td>{'road': 'N2', 'suburb': 'Cape Town Ward 18', 'town': 'Khayelitsha', 'county': 'City of Cape Town', 'state': 'Western Cape', 'postcode': '7100', 'country': 'South Africa', 'country_code': 'za'}</td>\n",
       "      <td>N2</td>\n",
       "      <td>Cape Town Ward 18</td>\n",
       "      <td>Western Cape</td>\n",
       "      <td>South Africa</td>\n",
       "    </tr>\n",
       "    <tr>\n",
       "      <th>8</th>\n",
       "      <td>60568</td>\n",
       "      <td>Stationary Vehicle</td>\n",
       "      <td>-34.002237</td>\n",
       "      <td>18.6350138684</td>\n",
       "      <td>{'road': 'N2', 'suburb': 'Cape Town Ward 18', 'city': 'Cape Town', 'county': 'City of Cape Town', 'state': 'Western Cape', 'postcode': '7100', 'country': 'South Africa', 'country_code': 'za'}</td>\n",
       "      <td>N2</td>\n",
       "      <td>Cape Town Ward 18</td>\n",
       "      <td>Western Cape</td>\n",
       "      <td>South Africa</td>\n",
       "    </tr>\n",
       "    <tr>\n",
       "      <th>9</th>\n",
       "      <td>60569</td>\n",
       "      <td>Accident</td>\n",
       "      <td>-33.949284</td>\n",
       "      <td>18.4906240725</td>\n",
       "      <td>{'road': 'Settlers Way', 'suburb': 'Mowbray', 'city': 'Cape Town', 'county': 'City of Cape Town', 'state': 'Western Cape', 'postcode': '7450', 'country': 'South Africa', 'country_code': 'za'}</td>\n",
       "      <td>Settlers Way</td>\n",
       "      <td>Mowbray</td>\n",
       "      <td>Western Cape</td>\n",
       "      <td>South Africa</td>\n",
       "    </tr>\n",
       "  </tbody>\n",
       "</table>\n",
       "</div>"
      ],
      "text/plain": [
       "   EventId                Cause   latitude      longitude  \\\n",
       "0  60558    Stationary Vehicle  -33.888275  18.5408955032   \n",
       "1  60559    Accident            -34.140857  18.9307563219   \n",
       "2  60560    Accident            -33.959154  18.5533575029   \n",
       "3  60561    Stationary Vehicle  -33.895258  18.6775561589   \n",
       "4  60562    Accident            -34.087051  18.8371319682   \n",
       "5  60564    Stationary Vehicle  -33.885498  18.6384711081   \n",
       "6  60565    Accident            -33.943158  18.4637854567   \n",
       "7  60567    Police and Military -34.002366  18.6359671258   \n",
       "8  60568    Stationary Vehicle  -34.002237  18.6350138684   \n",
       "9  60569    Accident            -33.949284  18.4906240725   \n",
       "\n",
       "                                                                                                                                                                                                           address  \\\n",
       "0  {'road': 'N1', 'suburb': 'Montague', 'city': 'Cape Town', 'county': 'City of Cape Town', 'state': 'Western Cape', 'postcode': '7460', 'country': 'South Africa', 'country_code': 'za'}                            \n",
       "1  {'road': 'N2', 'suburb': 'Cape Town Ward 84', 'village': 'Sir Lowry's Pass', 'county': 'City of Cape Town', 'state': 'Western Cape', 'country': 'South Africa', 'country_code': 'za'}                             \n",
       "2  {'road': 'Settlers Way', 'suburb': 'Welcome', 'city': 'Cape Town', 'county': 'City of Cape Town', 'state': 'Western Cape', 'postcode': '7535', 'country': 'South Africa', 'country_code': 'za'}                   \n",
       "3  {'road': 'Kuils River Freeway', 'suburb': 'Cape Town Ward 8', 'town': 'Bellville', 'county': 'City of Cape Town', 'state': 'Western Cape', 'postcode': '7580', 'country': 'South Africa', 'country_code': 'za'}   \n",
       "4  {'road': 'N2', 'suburb': 'Cape Town Ward 15', 'town': 'Somerset West', 'county': 'City of Cape Town', 'state': 'Western Cape', 'postcode': '7130', 'country': 'South Africa', 'country_code': 'za'}               \n",
       "5  {'road': 'N1', 'suburb': 'Tyger Valley', 'town': 'Bellville', 'county': 'City of Cape Town', 'state': 'Western Cape', 'postcode': '7530', 'country': 'South Africa', 'country_code': 'za'}                        \n",
       "6  {'road': 'Hospital Bend', 'suburb': 'Cape Town Ward 57', 'city': 'Cape Town', 'county': 'City of Cape Town', 'state': 'Western Cape', 'postcode': '7925', 'country': 'South Africa', 'country_code': 'za'}        \n",
       "7  {'road': 'N2', 'suburb': 'Cape Town Ward 18', 'town': 'Khayelitsha', 'county': 'City of Cape Town', 'state': 'Western Cape', 'postcode': '7100', 'country': 'South Africa', 'country_code': 'za'}                 \n",
       "8  {'road': 'N2', 'suburb': 'Cape Town Ward 18', 'city': 'Cape Town', 'county': 'City of Cape Town', 'state': 'Western Cape', 'postcode': '7100', 'country': 'South Africa', 'country_code': 'za'}                   \n",
       "9  {'road': 'Settlers Way', 'suburb': 'Mowbray', 'city': 'Cape Town', 'county': 'City of Cape Town', 'state': 'Western Cape', 'postcode': '7450', 'country': 'South Africa', 'country_code': 'za'}                   \n",
       "\n",
       "                  road             suburb         state       country  \n",
       "0  N1                   Montague           Western Cape  South Africa  \n",
       "1  N2                   Cape Town Ward 84  Western Cape  South Africa  \n",
       "2  Settlers Way         Welcome            Western Cape  South Africa  \n",
       "3  Kuils River Freeway  Cape Town Ward 8   Western Cape  South Africa  \n",
       "4  N2                   Cape Town Ward 15  Western Cape  South Africa  \n",
       "5  N1                   Tyger Valley       Western Cape  South Africa  \n",
       "6  Hospital Bend        Cape Town Ward 57  Western Cape  South Africa  \n",
       "7  N2                   Cape Town Ward 18  Western Cape  South Africa  \n",
       "8  N2                   Cape Town Ward 18  Western Cape  South Africa  \n",
       "9  Settlers Way         Mowbray            Western Cape  South Africa  "
      ]
     },
     "execution_count": 31,
     "metadata": {},
     "output_type": "execute_result"
    }
   ],
   "source": [
    "Geo_Data_Merged = Geo_Data_Reduced.join(Geo_Data_Addressx, how='outer')\n",
    "Geo_Data_Merged[:10]"
   ]
  },
  {
   "cell_type": "code",
   "execution_count": null,
   "metadata": {},
   "outputs": [],
   "source": []
  },
  {
   "cell_type": "code",
   "execution_count": 29,
   "metadata": {},
   "outputs": [],
   "source": [
    "Geo_Data_Address.reset_index(drop=True, inplace=True)"
   ]
  },
  {
   "cell_type": "code",
   "execution_count": null,
   "metadata": {},
   "outputs": [],
   "source": []
  },
  {
   "cell_type": "markdown",
   "metadata": {},
   "source": [
    "### Saving the results in a csv format"
   ]
  },
  {
   "cell_type": "code",
   "execution_count": 32,
   "metadata": {},
   "outputs": [
    {
     "ename": "FileNotFoundError",
     "evalue": "[Errno 2] No such file or directory: 'data/Geo_Data_Merged.csv'",
     "output_type": "error",
     "traceback": [
      "\u001b[1;31m---------------------------------------------------------------------------\u001b[0m",
      "\u001b[1;31mFileNotFoundError\u001b[0m                         Traceback (most recent call last)",
      "\u001b[1;32m<ipython-input-32-4814b2b6ccd0>\u001b[0m in \u001b[0;36m<module>\u001b[1;34m\u001b[0m\n\u001b[1;32m----> 1\u001b[1;33m \u001b[0mGeo_Data_Merged\u001b[0m\u001b[1;33m.\u001b[0m\u001b[0mto_csv\u001b[0m\u001b[1;33m(\u001b[0m\u001b[1;34m'data/Geo_Data_Merged.csv'\u001b[0m\u001b[1;33m,\u001b[0m\u001b[0mindex\u001b[0m\u001b[1;33m=\u001b[0m\u001b[1;32mNone\u001b[0m\u001b[1;33m)\u001b[0m\u001b[1;33m\u001b[0m\u001b[1;33m\u001b[0m\u001b[0m\n\u001b[0m",
      "\u001b[1;32m~\\Anaconda3\\envs\\tensorflow_env\\lib\\site-packages\\pandas\\core\\generic.py\u001b[0m in \u001b[0;36mto_csv\u001b[1;34m(self, path_or_buf, sep, na_rep, float_format, columns, header, index, index_label, mode, encoding, compression, quoting, quotechar, line_terminator, chunksize, date_format, doublequote, escapechar, decimal)\u001b[0m\n\u001b[0;32m   3202\u001b[0m             \u001b[0mdecimal\u001b[0m\u001b[1;33m=\u001b[0m\u001b[0mdecimal\u001b[0m\u001b[1;33m,\u001b[0m\u001b[1;33m\u001b[0m\u001b[1;33m\u001b[0m\u001b[0m\n\u001b[0;32m   3203\u001b[0m         )\n\u001b[1;32m-> 3204\u001b[1;33m         \u001b[0mformatter\u001b[0m\u001b[1;33m.\u001b[0m\u001b[0msave\u001b[0m\u001b[1;33m(\u001b[0m\u001b[1;33m)\u001b[0m\u001b[1;33m\u001b[0m\u001b[1;33m\u001b[0m\u001b[0m\n\u001b[0m\u001b[0;32m   3205\u001b[0m \u001b[1;33m\u001b[0m\u001b[0m\n\u001b[0;32m   3206\u001b[0m         \u001b[1;32mif\u001b[0m \u001b[0mpath_or_buf\u001b[0m \u001b[1;32mis\u001b[0m \u001b[1;32mNone\u001b[0m\u001b[1;33m:\u001b[0m\u001b[1;33m\u001b[0m\u001b[1;33m\u001b[0m\u001b[0m\n",
      "\u001b[1;32m~\\Anaconda3\\envs\\tensorflow_env\\lib\\site-packages\\pandas\\io\\formats\\csvs.py\u001b[0m in \u001b[0;36msave\u001b[1;34m(self)\u001b[0m\n\u001b[0;32m    186\u001b[0m                 \u001b[0mself\u001b[0m\u001b[1;33m.\u001b[0m\u001b[0mmode\u001b[0m\u001b[1;33m,\u001b[0m\u001b[1;33m\u001b[0m\u001b[1;33m\u001b[0m\u001b[0m\n\u001b[0;32m    187\u001b[0m                 \u001b[0mencoding\u001b[0m\u001b[1;33m=\u001b[0m\u001b[0mself\u001b[0m\u001b[1;33m.\u001b[0m\u001b[0mencoding\u001b[0m\u001b[1;33m,\u001b[0m\u001b[1;33m\u001b[0m\u001b[1;33m\u001b[0m\u001b[0m\n\u001b[1;32m--> 188\u001b[1;33m                 \u001b[0mcompression\u001b[0m\u001b[1;33m=\u001b[0m\u001b[0mdict\u001b[0m\u001b[1;33m(\u001b[0m\u001b[0mself\u001b[0m\u001b[1;33m.\u001b[0m\u001b[0mcompression_args\u001b[0m\u001b[1;33m,\u001b[0m \u001b[0mmethod\u001b[0m\u001b[1;33m=\u001b[0m\u001b[0mself\u001b[0m\u001b[1;33m.\u001b[0m\u001b[0mcompression\u001b[0m\u001b[1;33m)\u001b[0m\u001b[1;33m,\u001b[0m\u001b[1;33m\u001b[0m\u001b[1;33m\u001b[0m\u001b[0m\n\u001b[0m\u001b[0;32m    189\u001b[0m             )\n\u001b[0;32m    190\u001b[0m             \u001b[0mclose\u001b[0m \u001b[1;33m=\u001b[0m \u001b[1;32mTrue\u001b[0m\u001b[1;33m\u001b[0m\u001b[1;33m\u001b[0m\u001b[0m\n",
      "\u001b[1;32m~\\Anaconda3\\envs\\tensorflow_env\\lib\\site-packages\\pandas\\io\\common.py\u001b[0m in \u001b[0;36mget_handle\u001b[1;34m(path_or_buf, mode, encoding, compression, memory_map, is_text)\u001b[0m\n\u001b[0;32m    426\u001b[0m         \u001b[1;32mif\u001b[0m \u001b[0mencoding\u001b[0m\u001b[1;33m:\u001b[0m\u001b[1;33m\u001b[0m\u001b[1;33m\u001b[0m\u001b[0m\n\u001b[0;32m    427\u001b[0m             \u001b[1;31m# Encoding\u001b[0m\u001b[1;33m\u001b[0m\u001b[1;33m\u001b[0m\u001b[1;33m\u001b[0m\u001b[0m\n\u001b[1;32m--> 428\u001b[1;33m             \u001b[0mf\u001b[0m \u001b[1;33m=\u001b[0m \u001b[0mopen\u001b[0m\u001b[1;33m(\u001b[0m\u001b[0mpath_or_buf\u001b[0m\u001b[1;33m,\u001b[0m \u001b[0mmode\u001b[0m\u001b[1;33m,\u001b[0m \u001b[0mencoding\u001b[0m\u001b[1;33m=\u001b[0m\u001b[0mencoding\u001b[0m\u001b[1;33m,\u001b[0m \u001b[0mnewline\u001b[0m\u001b[1;33m=\u001b[0m\u001b[1;34m\"\"\u001b[0m\u001b[1;33m)\u001b[0m\u001b[1;33m\u001b[0m\u001b[1;33m\u001b[0m\u001b[0m\n\u001b[0m\u001b[0;32m    429\u001b[0m         \u001b[1;32melif\u001b[0m \u001b[0mis_text\u001b[0m\u001b[1;33m:\u001b[0m\u001b[1;33m\u001b[0m\u001b[1;33m\u001b[0m\u001b[0m\n\u001b[0;32m    430\u001b[0m             \u001b[1;31m# No explicit encoding\u001b[0m\u001b[1;33m\u001b[0m\u001b[1;33m\u001b[0m\u001b[1;33m\u001b[0m\u001b[0m\n",
      "\u001b[1;31mFileNotFoundError\u001b[0m: [Errno 2] No such file or directory: 'data/Geo_Data_Merged.csv'"
     ]
    }
   ],
   "source": [
    "#Geo_Data_Merged.to_csv('data/Geo_Data_Merged.csv',index=None)"
   ]
  },
  {
   "cell_type": "code",
   "execution_count": null,
   "metadata": {},
   "outputs": [],
   "source": []
  },
  {
   "cell_type": "code",
   "execution_count": null,
   "metadata": {},
   "outputs": [],
   "source": []
  }
 ],
 "metadata": {
  "kernelspec": {
   "display_name": "Python 3",
   "language": "python",
   "name": "python3"
  },
  "language_info": {
   "codemirror_mode": {
    "name": "ipython",
    "version": 3
   },
   "file_extension": ".py",
   "mimetype": "text/x-python",
   "name": "python",
   "nbconvert_exporter": "python",
   "pygments_lexer": "ipython3",
   "version": "3.6.10"
  }
 },
 "nbformat": 4,
 "nbformat_minor": 2
}
